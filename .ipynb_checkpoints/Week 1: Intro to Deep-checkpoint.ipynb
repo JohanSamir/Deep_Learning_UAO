{
 "cells": [
  {
   "cell_type": "markdown",
   "metadata": {},
   "source": [
    "## Activation Fuctions"
   ]
  },
  {
   "cell_type": "code",
   "execution_count": 29,
   "metadata": {},
   "outputs": [],
   "source": [
    "import matplotlib.pyplot as plt\n",
    "import numpy as np\n",
    "import tensorflow as tf\n",
    "from tensorflow.python.framework import ops\n",
    "ops.reset_default_graph()\n",
    "\n",
    "# Open graph session\n",
    "sess = tf.Session()\n",
    "\n",
    "# X range\n",
    "x_vals = np.linspace(start=-10., stop=10., num=100)\n",
    "\n",
    "# ReLU activation\n",
    "y_relu = sess.run(tf.nn.relu(x_vals))\n",
    "\n",
    "# ReLU-6 activation\n",
    "y_relu6 = sess.run(tf.nn.relu6(x_vals))\n",
    "\n",
    "# Sigmoid activation\n",
    "y_sigmoid = sess.run(tf.nn.sigmoid(x_vals))\n",
    "\n",
    "# Hyper Tangent activation\n",
    "y_tanh = sess.run(tf.nn.tanh(x_vals))\n",
    "\n",
    "# Softsign activation\n",
    "y_softsign = sess.run(tf.nn.softsign(x_vals))\n",
    "\n",
    "# Softplus activation\n",
    "y_softplus = sess.run(tf.nn.softplus(x_vals))\n",
    "\n",
    "# Exponential linear activation\n",
    "y_elu = sess.run(tf.nn.elu(x_vals))"
   ]
  },
  {
   "cell_type": "code",
   "execution_count": 30,
   "metadata": {},
   "outputs": [
    {
     "data": {
      "image/png": "[encoded data removed]",
      "text/plain": [
       "<matplotlib.figure.Figure at 0x7fad10122e80>"
      ]
     },
     "metadata": {},
     "output_type": "display_data"
    }
   ],
   "source": [
    "# Plot the different functions\n",
    "plt.figure(figsize=(10,5))\n",
    "plt.subplot(1,2,1)\n",
    "plt.plot(x_vals, y_softplus, 'r--', label='Softplus', linewidth=2)\n",
    "plt.plot(x_vals, y_relu, 'b:', label='ReLU', linewidth=2)\n",
    "plt.plot(x_vals, y_relu6, 'g-.', label='ReLU6', linewidth=2)\n",
    "plt.plot(x_vals, y_elu, 'k-', label='ExpLU', linewidth=0.5)\n",
    "plt.ylim([-1.5,10])\n",
    "plt.legend(loc='upper left')\n",
    "plt.grid(True)\n",
    "\n",
    "\n",
    "plt.subplot(1,2,2)\n",
    "plt.plot(x_vals, y_sigmoid, 'r--', label='Sigmoid', linewidth=2)\n",
    "plt.plot(x_vals, y_tanh, 'b:', label='Tanh', linewidth=2)\n",
    "plt.plot(x_vals, y_softsign, 'g-.', label='Softsign', linewidth=2)\n",
    "plt.ylim([-1.5,2])\n",
    "plt.legend(loc='upper left')\n",
    "plt.grid(True)"
   ]
  },
  {
   "cell_type": "markdown",
   "metadata": {},
   "source": [
    "## Introduction"
   ]
  },
  {
   "cell_type": "code",
   "execution_count": 31,
   "metadata": {},
   "outputs": [
    {
     "name": "stdout",
     "output_type": "stream",
     "text": [
      "Neta:  -10.5\n",
      "Salida: 0.0\n"
     ]
    }
   ],
   "source": [
    "import tensorflow as tf\n",
    "\n",
    "#Creacion del grafo\n",
    "x = tf.constant(-3.0)\n",
    "w = tf.constant(3.0)\n",
    "b = tf.constant(-1.5)\n",
    "\n",
    "SalidaAux = tf.multiply(x,w)# 1 en el grafo\n",
    "Neta = tf.add(SalidaAux,b)# 2 en el grafo\n",
    "Salida = tf.nn.relu(Neta)# 3 en el grafo\n",
    "\n",
    "#Ejecucion del grafo\n",
    "sess=tf.Session()\n",
    "ValorSalida=sess.run(Salida)\n",
    "ValorNeta=sess.run(Neta)\n",
    "\n",
    "print(\"Neta: \",ValorNeta)\n",
    "print(\"Salida: %s\"%(ValorSalida))"
   ]
  },
  {
   "cell_type": "code",
   "execution_count": 32,
   "metadata": {},
   "outputs": [
    {
     "name": "stdout",
     "output_type": "stream",
     "text": [
      "Neta: [ 13.5   4.5  -1.5  -7.5 -16.5]\n",
      "Salida: [13.5  4.5  0.   0.   0. ]\n"
     ]
    }
   ],
   "source": [
    "import tensorflow as tf\n",
    "\n",
    "#Creacion del grafo\n",
    "x=tf.placeholder(tf.float32)\n",
    "w=tf.Variable([-3.0],dtype=tf.float32)\n",
    "b=tf.constant([-1.5],dtype=tf.float32)\n",
    "\n",
    "Neta=tf.add(tf.multiply(x,w),b)\n",
    "Salida=tf.nn.relu(Neta)\n",
    "#Salida=Neta\n",
    "\n",
    "#Ejecucion del grafo\n",
    "init=tf.global_variables_initializer()\n",
    "sess=tf.Session()\n",
    "sess.run(init)\n",
    "\n",
    "ValorNeta=sess.run(Neta,{x:[-5, -2, 0, 2, 5]})\n",
    "ValorSalida=sess.run(Salida,{x: [-5, -2, 0, 2, 5]})\n",
    "\n",
    "print(\"Neta: %s\"%(ValorNeta))\n",
    "print(\"Salida: %s\"%(ValorSalida))"
   ]
  },
  {
   "cell_type": "code",
   "execution_count": 33,
   "metadata": {},
   "outputs": [
    {
     "name": "stdout",
     "output_type": "stream",
     "text": [
      "Neta:\n",
      "[[-0.018     ]\n",
      " [ 0.066     ]\n",
      " [ 0.075     ]\n",
      " [ 0.15900001]]\n",
      "Salida:\n",
      "[[0.        ]\n",
      " [0.066     ]\n",
      " [0.075     ]\n",
      " [0.15900001]]\n"
     ]
    }
   ],
   "source": [
    "import tensorflow as tf\n",
    "\n",
    "#construccion del modelo o grafo\n",
    "x=tf.placeholder(tf.float32)\n",
    "w=tf.Variable([[0.093],[0.084]],dtype=tf.float32)\n",
    "b=tf.constant([-0.018],dtype=tf.float32)\n",
    "\n",
    "\n",
    "Neta=tf.matmul(x,w)+b\n",
    "Salida=tf.nn.relu(Neta)\n",
    "\n",
    "#Ejecucion del grafo\n",
    "init=tf.global_variables_initializer()\n",
    "sess=tf.Session()\n",
    "sess.run(init)\n",
    "\n",
    "ValorNeta=sess.run(Neta,{x:[[0,0],[0,1],[1,0],[1,1]]})\n",
    "ValorSalida=sess.run(Salida,{x: [[0,0],[0,1],[1,0],[1,1]]})\n",
    "\n",
    "\n",
    "print(\"Neta:\\n%s\"%(ValorNeta))\n",
    "print(\"Salida:\\n%s\"%(ValorSalida))\n"
   ]
  },
  {
   "cell_type": "markdown",
   "metadata": {},
   "source": [
    "# MLP_AND"
   ]
  },
  {
   "cell_type": "markdown",
   "metadata": {},
   "source": [
    "A multilayer perceptron (MLP) is a class of feedforward artificial neural network. An MLP consists of, at least, three layers of nodes: an input layer, a hidden layer and an output layer. Except for the input nodes, each node is a neuron that uses a nonlinear activation function. MLP utilizes a supervised learning technique called backpropagation for training. Its multiple layers and non-linear activation distinguish MLP from a linear perceptron. It can distinguish data that is not linearly separable.\n",
    "\n",
    "<img src=\"files/q.png\" style=\"width: 500px;\">\n"
   ]
  },
  {
   "cell_type": "code",
   "execution_count": 34,
   "metadata": {},
   "outputs": [],
   "source": [
    "import tensorflow as tf\n",
    "\n",
    "# training data\n",
    "x_train = [[0,0],[0,1],[1,0],[1,1]]\n",
    "y_train = [[0],[0],[0],[1]]\n",
    "\n",
    "# Model parameters\n",
    "Wco = tf.Variable(tf.random_uniform((2,10),-1,1))\n",
    "bco = tf.Variable(tf.random_uniform((10,),-1,1))\n",
    "\n",
    "Wcs = tf.Variable(tf.random_uniform((10,1),-1,1))\n",
    "bcs = tf.Variable(tf.random_uniform((1,),-1,1))\n",
    "\n",
    "# Model input and output\n",
    "x = tf.placeholder(tf.float32,(4,2))\n",
    "y = tf.placeholder(tf.float32,(4,1))\n",
    "\n",
    "OutputCo= tf.tanh(tf.matmul(x,Wco)+bco)\n",
    "Output= tf.sigmoid(tf.matmul(OutputCo,Wcs)+bcs)"
   ]
  },
  {
   "cell_type": "code",
   "execution_count": 35,
   "metadata": {},
   "outputs": [
    {
     "name": "stdout",
     "output_type": "stream",
     "text": [
      "loss: 0.0027515017 \n",
      "Output:\n",
      " [[4.9852801e-04]\n",
      " [2.9088078e-02]\n",
      " [2.5453696e-02]\n",
      " [9.6454233e-01]] \n"
     ]
    }
   ],
   "source": [
    "# loss\n",
    "loss = tf.reduce_sum(tf.square(Output - y)) # sum of the squares\n",
    "# optimizer\n",
    "optimizer = tf.train.GradientDescentOptimizer(0.01)\n",
    "train = optimizer.minimize(loss)\n",
    "\n",
    "# training loop\n",
    "init = tf.global_variables_initializer()\n",
    "sess = tf.Session()\n",
    "sess.run(init) \n",
    "for i in range(10000):\n",
    "    sess.run(train, {x: x_train, y: y_train})\n",
    "\n",
    "# evaluate training accuracy\n",
    "curr_Wco, curr_bco, curr_Wcs, curr_bcs,curr_loss, curr_Output = sess.run([Wco, bco,Wcs, bcs, loss,Output], {x: x_train, y: y_train})\n",
    "#print(\"Wco: %s bco: %s Wcs: %s bcs: %s loss: %s Output: %s \"%(curr_Wco, curr_bco, curr_Wcs, curr_bcs,curr_loss,curr_Output))\n",
    "print(\"loss: %s \\nOutput:\\n %s \"%(curr_loss,curr_Output))"
   ]
  },
  {
   "cell_type": "markdown",
   "metadata": {},
   "source": [
    "## MLP_XOR\n",
    "The XOR, or “exclusive or”, problem is a classic problem in ANN research. It is the problem of using a neural network to predict the outputs of  XOR logic gates given two binary inputs. An XOr function should return a true value if the two inputs are not equal and a false value if they are equal.\n",
    "\n",
    "On the surface, XOR appears to be a very simple problem, however, Minksy and Papert (1969) showed that this was a big problem for neural network architectures of the 1960s, known as perceptrons.\n",
    "\n",
    "So I will implement a MLP for resolving this case. The first neuron acts as an OR gate and the second one as a NOT AND gate. Add both the neurons and if they pass the treshold it’s positive. You can just use linear decision neurons for this with adjusting the biases for the tresholds."
   ]
  },
  {
   "cell_type": "code",
   "execution_count": 36,
   "metadata": {},
   "outputs": [],
   "source": [
    "import tensorflow as tf\n",
    "\n",
    "# training data\n",
    "x_train = [[0,0],[0,1],[1,0],[1,1]]\n",
    "y_train = [[0],[1],[1],[0]]\n",
    "\n",
    "# Model parameters\n",
    "Wco = tf.Variable(tf.random_uniform((2,10),-1,1))\n",
    "bco = tf.Variable(tf.random_uniform((10,),-1,1))\n",
    "\n",
    "Wcs = tf.Variable(tf.random_uniform((10,1),-1,1))\n",
    "bcs = tf.Variable(tf.random_uniform((1,),-1,1))\n",
    "\n",
    "# Model input and output\n",
    "x = tf.placeholder(tf.float32,(4,2))\n",
    "y = tf.placeholder(tf.float32,(4,1))\n",
    "\n",
    "OutputCo= tf.tanh(tf.matmul(x,Wco)+bco)\n",
    "Output= tf.sigmoid(tf.matmul(OutputCo,Wcs)+bcs)"
   ]
  },
  {
   "cell_type": "code",
   "execution_count": 37,
   "metadata": {},
   "outputs": [
    {
     "name": "stdout",
     "output_type": "stream",
     "text": [
      "loss: 0.00023972866 \n",
      "Output:\n",
      " [[0.00570333]\n",
      " [0.9912772 ]\n",
      " [0.9929939 ]\n",
      " [0.00905694]] \n"
     ]
    }
   ],
   "source": [
    "# loss\n",
    "loss = tf.reduce_sum(tf.square(Output - y)) # sum of the squares\n",
    "# optimizer\n",
    "#optimizer = tf.train.GradientDescentOptimizer(0.1)\n",
    "optimizer = tf.train.MomentumOptimizer(0.1,0.3)\n",
    "train = optimizer.minimize(loss)\n",
    "\n",
    "# training loop\n",
    "init = tf.global_variables_initializer()\n",
    "sess = tf.Session()\n",
    "sess.run(init) \n",
    "for i in range(10000):\n",
    "    sess.run(train, {x: x_train, y: y_train})\n",
    "\n",
    "# evaluate training accuracy\n",
    "curr_Wco, curr_bco, curr_Wcs, curr_bcs,curr_loss, curr_Output = sess.run([Wco, bco,Wcs, bcs, loss,Output], {x: x_train, y: y_train})\n",
    "#print(\"Wco: %s bco: %s Wcs: %s bcs: %s loss: %s Output: %s \"%(curr_Wco, curr_bco, curr_Wcs, curr_bcs,curr_loss,curr_Output))\n",
    "print(\"loss: %s \\nOutput:\\n %s \"%(curr_loss,curr_Output))"
   ]
  }
 ],
 "metadata": {
  "kernelspec": {
   "display_name": "Python 3",
   "language": "python",
   "name": "python3"
  },
  "language_info": {
   "codemirror_mode": {
    "name": "ipython",
    "version": 3
   },
   "file_extension": ".py",
   "mimetype": "text/x-python",
   "name": "python",
   "nbconvert_exporter": "python",
   "pygments_lexer": "ipython3",
   "version": "3.5.2"
  },
  "varInspector": {
   "cols": {
    "lenName": 16,
    "lenType": 16,
    "lenVar": 40
   },
   "kernels_config": {
    "python": {
     "delete_cmd_postfix": "",
     "delete_cmd_prefix": "del ",
     "library": "var_list.py",
     "varRefreshCmd": "print(var_dic_list())"
    },
    "r": {
     "delete_cmd_postfix": ") ",
     "delete_cmd_prefix": "rm(",
     "library": "var_list.r",
     "varRefreshCmd": "cat(var_dic_list()) "
    }
   },
   "types_to_exclude": [
    "module",
    "function",
    "builtin_function_or_method",
    "instance",
    "_Feature"
   ],
   "window_display": false
  }
 },
 "nbformat": 4,
 "nbformat_minor": 2
}
