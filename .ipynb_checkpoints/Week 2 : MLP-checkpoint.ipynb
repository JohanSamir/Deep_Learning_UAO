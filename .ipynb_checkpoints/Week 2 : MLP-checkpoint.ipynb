{
 "cells": [
  {
   "cell_type": "markdown",
   "metadata": {},
   "source": [
    "# Multi Layer Perceptron\n"
   ]
  },
  {
   "cell_type": "code",
   "execution_count": null,
   "metadata": {},
   "outputs": [],
   "source": []
  },
  {
   "cell_type": "code",
   "execution_count": 1,
   "metadata": {},
   "outputs": [
    {
     "name": "stdout",
     "output_type": "stream",
     "text": [
      "21\n",
      "Wco: [[-0.6098855  -0.33966598  0.6147631  -0.6669573   0.767809    0.7980588\n",
      "   0.3292211  -0.6302553  -0.46974093 -0.58746386]] bco: [ 1.9468155   1.9797857  -2.03084    -0.4563835   0.2545189   0.87837857\n",
      " -1.8947911   1.0645382   0.17232387  1.2280465 ] Wcs: [[ 1.440384  ]\n",
      " [-1.6348585 ]\n",
      " [-1.301206  ]\n",
      " [-0.7826118 ]\n",
      " [ 0.88290447]\n",
      " [ 0.5648446 ]\n",
      " [ 1.4251754 ]\n",
      " [-1.0230634 ]\n",
      " [ 0.34285462]\n",
      " [ 0.54185385]] bcs: [-0.388519] loss: 0.04870297 \n"
     ]
    },
    {
     "data": {
      "text/plain": [
       "<matplotlib.figure.Figure at 0x7fd92e59db00>"
      ]
     },
     "metadata": {},
     "output_type": "display_data"
    }
   ],
   "source": [
    "import numpy as np\n",
    "import matplotlib.pyplot as plt\n",
    "import tensorflow as tf\n",
    "import csv\n",
    "\n",
    "\n",
    "## Step 1: read in data from the .xls file\n",
    "DATA_FILE = '/home/johan/repos/GitHub/Deep_Learning_UAO/Week 2/data/seno.csv'\n",
    "     \n",
    " \n",
    "data=np.zeros([21,2],dtype=np.float64)\n",
    "x_train=np.zeros([21,1],dtype=np.float64)\n",
    "y_train=np.zeros([21,1],dtype=np.float64)\n",
    "cont=0;\n",
    "with open(DATA_FILE) as csvfile:\n",
    "    \n",
    "    readCSV = csv.reader(csvfile, delimiter=',')\n",
    "    \n",
    "    for row in readCSV:\n",
    "        data[cont,:]=(np.asarray(row))  \n",
    "        x_train[cont] = data[cont,0]\n",
    "        y_train[cont] = data[cont,1]\n",
    "        cont=cont+1\n",
    "    #    print(cont)\n",
    "        \n",
    "n_samples=cont \n",
    "print(n_samples)   \n",
    "\n",
    "X = tf.placeholder(tf.float32,(n_samples,1), name='X')\n",
    "Y = tf.placeholder(tf.float32,(n_samples,1), name='Y')\n",
    "\n",
    "# Model parameters\n",
    "Wco = tf.Variable(tf.random_uniform((1,10),-1,1))\n",
    "bco = tf.Variable(tf.random_uniform((10,),-1,1))\n",
    "\n",
    "\n",
    "Wcs = tf.Variable(tf.random_uniform((10,1),-1,1))\n",
    "bcs = tf.Variable(tf.random_uniform((1,),-1,1))\n",
    "\n",
    "\n",
    "OutputCo= tf.tanh(tf.matmul(X,Wco)+bco)\n",
    "Output= (tf.matmul(OutputCo,Wcs)+bcs)\n",
    "\n",
    "\n",
    "loss = tf.reduce_sum(tf.square(Y-Output)) # sum of the squares\n",
    "# optimizer\n",
    "#optimizer = tf.train.GradientDescentOptimizer(0.001)\n",
    "optimizer = tf.train.MomentumOptimizer(0.001,0.3)\n",
    "\n",
    "train = optimizer.minimize(loss)\n",
    "\n",
    "# training loop\n",
    "init = tf.global_variables_initializer()\n",
    "\n",
    "sess = tf.Session()\n",
    "sess.run(init) \n",
    "for i in range(10000):\n",
    "  sess.run(train, {X: x_train, Y: y_train})\n",
    "\n",
    "curr_Wco, curr_bco, curr_Wcs, curr_bcs,curr_loss, curr_Output = sess.run([Wco, bco,Wcs, bcs, loss,Output], {X:  x_train, Y: y_train})\n",
    "#curr_loss, curr_Output = sess.run([loss,Output], {X:  x_train, Y: y_train})\n",
    "print(\"Wco: %s bco: %s Wcs: %s bcs: %s loss: %s \"%(curr_Wco, curr_bco, curr_Wcs, curr_bcs,curr_loss))\n",
    "\n",
    "X, Y = data.T[0], data.T[1]\n",
    "plt.plot(X, Y, 'bo', label='Real data')\n",
    "plt.plot(X, curr_Output, 'r', label='Predicted data')\n",
    "plt.legend()\n",
    "plt.show()\n"
   ]
  },
  {
   "cell_type": "markdown",
   "metadata": {},
   "source": [
    "# MLP Validation\n",
    "\n"
   ]
  },
  {
   "cell_type": "code",
   "execution_count": 2,
   "metadata": {},
   "outputs": [],
   "source": [
    "import numpy as np\n",
    "import matplotlib.pyplot as plt\n",
    "import math\n",
    "import tensorflow as tf\n",
    "\n",
    "x_train=np.zeros([21,1],dtype=np.float64)\n",
    "y_train=np.zeros([21,1],dtype=np.float64)\n",
    "cont=0;\n"
   ]
  },
  {
   "cell_type": "code",
   "execution_count": 3,
   "metadata": {},
   "outputs": [
    {
     "name": "stdout",
     "output_type": "stream",
     "text": [
      "21\n"
     ]
    }
   ],
   "source": [
    "for i in range(0,21):\n",
    "    x_train[cont] = (math.pi)*i*0.1\n",
    "    y_train[cont] = math.sin(x_train[cont] )\n",
    "    cont=cont+1\n",
    "          \n",
    "n_samples=cont \n",
    "print(n_samples) "
   ]
  },
  {
   "cell_type": "code",
   "execution_count": 4,
   "metadata": {},
   "outputs": [],
   "source": [
    "X = tf.placeholder(tf.float32,(n_samples,1), name='X')\n",
    "Y = tf.placeholder(tf.float32,(n_samples,1), name='Y')\n",
    "\n",
    "#W y Bias de la capa oculta\n",
    "Wco = tf.Variable(tf.random_uniform((1,10),-1,1))\n",
    "bco = tf.Variable(tf.random_uniform((10,),-1,1))\n",
    "\n",
    "#w y Bias de la capa de salida\n",
    "Wcs = tf.Variable(tf.random_uniform((10,1),-1,1))\n",
    "bcs = tf.Variable(tf.random_uniform((1,),-1,1))\n",
    "\n",
    "OutputCo= tf.tanh(tf.matmul(X,Wco)+bco)\n",
    "Output= (tf.matmul(OutputCo,Wcs)+bcs)\n"
   ]
  },
  {
   "cell_type": "code",
   "execution_count": 5,
   "metadata": {},
   "outputs": [],
   "source": [
    "loss = tf.reduce_mean(tf.square(Y-Output))\n",
    "\n",
    "# optimizer\n",
    "#optimizer = tf.train.GradientDescentOptimizer(0.01)\n",
    "optimizer = tf.train.MomentumOptimizer(0.01,0.9)\n",
    "\n",
    "train = optimizer.minimize(loss)\n",
    "\n",
    "init = tf.global_variables_initializer()"
   ]
  },
  {
   "cell_type": "code",
   "execution_count": 6,
   "metadata": {},
   "outputs": [],
   "source": [
    "sess = tf.Session()\n",
    "sess.run(init)"
   ]
  },
  {
   "cell_type": "code",
   "execution_count": 7,
   "metadata": {},
   "outputs": [
    {
     "name": "stdout",
     "output_type": "stream",
     "text": [
      "Wco: [[ 0.5865063   0.48247468 -0.0866656   0.4333567  -0.08851485 -0.49137092\n",
      "   0.92856973 -0.8113577  -0.73893183 -0.66606426]] bco: [ 0.27570942 -0.6972489  -0.20074232 -0.3742801   0.3585498   0.7562388\n",
      " -0.2461627   0.666046   -0.96691394  0.62133116] Wcs: [[-0.1609375 ]\n",
      " [-0.4440203 ]\n",
      " [-0.8794257 ]\n",
      " [ 0.86398673]\n",
      " [ 0.20256568]\n",
      " [-0.06728004]\n",
      " [-0.35834518]\n",
      " [ 0.7141794 ]\n",
      " [-0.9327544 ]\n",
      " [-0.9572829 ]] bcs: [0.5189813] loss: 4.1999598 \n"
     ]
    }
   ],
   "source": [
    "for i in range(1):\n",
    "  sess.run(train, {X: x_train, Y: y_train})\n",
    "\n",
    "curr_Wco, curr_bco, curr_Wcs, curr_bcs,curr_loss, curr_Output = sess.run([Wco, bco,Wcs, bcs, loss,Output], {X:  x_train, Y: y_train})\n",
    "#curr_loss, curr_Output = sess.run([loss,Output], {X:  x_train, Y: y_train})\n",
    "print(\"Wco: %s bco: %s Wcs: %s bcs: %s loss: %s \"%(curr_Wco, curr_bco, curr_Wcs, curr_bcs,curr_loss))"
   ]
  },
  {
   "cell_type": "code",
   "execution_count": 8,
   "metadata": {},
   "outputs": [
    {
     "data": {
      "image/png": "[encoded data removed]",
      "text/plain": [
       "<matplotlib.figure.Figure at 0x7fd92c4748d0>"
      ]
     },
     "metadata": {},
     "output_type": "display_data"
    }
   ],
   "source": [
    "Xg, Yg = x_train, y_train\n",
    "plt.plot(Xg, Yg, 'bo', label='Datos Deseados')\n",
    "plt.plot(Xg, curr_Output, 'r*', label='Salida Red')\n",
    "plt.legend()\n",
    "plt.show()"
   ]
  },
  {
   "cell_type": "code",
   "execution_count": 9,
   "metadata": {},
   "outputs": [
    {
     "name": "stdout",
     "output_type": "stream",
     "text": [
      "Wco: [[ 0.6882812   0.77030516  1.6855284   1.0399555  -0.42083797 -0.795869\n",
      "   0.7250912  -0.7704488  -0.7473194  -1.005831  ]] bco: [ 0.39432278 -1.5880402   0.40538988 -0.28071856  2.4142907   1.0867411\n",
      " -0.03761543  2.958006   -0.8757914   1.3383234 ] Wcs: [[-0.28034404]\n",
      " [-1.0493649 ]\n",
      " [ 0.36842224]\n",
      " [ 0.67324007]\n",
      " [-2.5478818 ]\n",
      " [ 0.5387548 ]\n",
      " [-0.1967002 ]\n",
      " [ 1.5922666 ]\n",
      " [-0.68393475]\n",
      " [-1.1099652 ]] bcs: [0.14795792] loss: 0.0001332608 Output: [[-0.00748849]\n",
      " [ 0.32159662]\n",
      " [ 0.5885456 ]\n",
      " [ 0.79825234]\n",
      " [ 0.9466055 ]\n",
      " [ 1.008966  ]\n",
      " [ 0.9603993 ]\n",
      " [ 0.805056  ]\n",
      " [ 0.5743057 ]\n",
      " [ 0.30164868]\n",
      " [ 0.00797105]\n",
      " [-0.29252446]\n",
      " [-0.5783384 ]\n",
      " [-0.8155345 ]\n",
      " [-0.967922  ]\n",
      " [-1.0129782 ]\n",
      " [-0.9494233 ]\n",
      " [-0.7933488 ]\n",
      " [-0.5696348 ]\n",
      " [-0.30476606]\n",
      " [-0.02264333]]\n"
     ]
    }
   ],
   "source": [
    "for i in range(10000):\n",
    "  sess.run(train, {X: x_train, Y: y_train})\n",
    "\n",
    "curr_Wco, curr_bco, curr_Wcs, curr_bcs,curr_loss, curr_Output = sess.run([Wco, bco,Wcs, bcs, loss,Output], {X:  x_train, Y: y_train})\n",
    "#curr_loss, curr_Output = sess.run([loss,Output], {X:  x_train, Y: y_train})\n",
    "print(\"Wco: %s bco: %s Wcs: %s bcs: %s loss: %s Output: %s\"%(curr_Wco, curr_bco, curr_Wcs, curr_bcs,curr_loss,curr_Output))"
   ]
  },
  {
   "cell_type": "code",
   "execution_count": 10,
   "metadata": {},
   "outputs": [
    {
     "data": {
      "image/png": "[encoded data removed]",
      "text/plain": [
       "<matplotlib.figure.Figure at 0x7fd916789d68>"
      ]
     },
     "metadata": {},
     "output_type": "display_data"
    }
   ],
   "source": [
    "Xg, Yg = x_train, y_train\n",
    "plt.plot(Xg, Yg, 'bo', label='Datos Deseados')\n",
    "plt.plot(Xg, curr_Output, 'r*', label='Salida Red')\n",
    "plt.legend()\n",
    "plt.show()"
   ]
  },
  {
   "cell_type": "code",
   "execution_count": 11,
   "metadata": {},
   "outputs": [
    {
     "name": "stdout",
     "output_type": "stream",
     "text": [
      "loss: 0.00017723872 \n"
     ]
    }
   ],
   "source": [
    "x_test=np.zeros([21,1],dtype=np.float64)\n",
    "y_test=np.zeros([21,1],dtype=np.float64)\n",
    "cont=0;\n",
    "\n",
    "x_test=np.zeros([21,1],dtype=np.float64)\n",
    "y_test=np.zeros([21,1],dtype=np.float64)\n",
    "cont=0;\n",
    "\n",
    "for i in range(0,21):\n",
    "    x_test[cont] =(math.pi)*i*0.1+ ((math.pi)*0.05)\n",
    "    y_test[cont] = math.sin(x_test[cont] )\n",
    "    cont=cont+1\n",
    "\n",
    "curr_loss2, curr_Output2 = sess.run([loss,Output], {X:  x_test, Y: y_test})\n",
    "print(\"loss: %s \"%(curr_loss2))"
   ]
  },
  {
   "cell_type": "code",
   "execution_count": 12,
   "metadata": {},
   "outputs": [
    {
     "data": {
      "image/png": "[encoded data removed]",
      "text/plain": [
       "<matplotlib.figure.Figure at 0x7fd9166da0b8>"
      ]
     },
     "metadata": {},
     "output_type": "display_data"
    }
   ],
   "source": [
    "Xg, Yg = x_train, y_train\n",
    "plt.plot(Xg, Yg, 'bo', label='Datos Deseados de Entrenamiento')\n",
    "plt.plot(Xg, curr_Output, 'r*', label='Salida Red con Datos de Entrenamiento')\n",
    "plt.plot(x_test, y_test, 'yo', label='Datos Deseados de Validacion')\n",
    "plt.plot(x_test, curr_Output2, 'g*', label='Salida Red con Datos de Validación')\n",
    "plt.legend()\n",
    "plt.show()"
   ]
  }
 ],
 "metadata": {
  "kernelspec": {
   "display_name": "Python 3",
   "language": "python",
   "name": "python3"
  },
  "language_info": {
   "codemirror_mode": {
    "name": "ipython",
    "version": 3
   },
   "file_extension": ".py",
   "mimetype": "text/x-python",
   "name": "python",
   "nbconvert_exporter": "python",
   "pygments_lexer": "ipython3",
   "version": "3.5.2"
  },
  "varInspector": {
   "cols": {
    "lenName": 16,
    "lenType": 16,
    "lenVar": 40
   },
   "kernels_config": {
    "python": {
     "delete_cmd_postfix": "",
     "delete_cmd_prefix": "del ",
     "library": "var_list.py",
     "varRefreshCmd": "print(var_dic_list())"
    },
    "r": {
     "delete_cmd_postfix": ") ",
     "delete_cmd_prefix": "rm(",
     "library": "var_list.r",
     "varRefreshCmd": "cat(var_dic_list()) "
    }
   },
   "types_to_exclude": [
    "module",
    "function",
    "builtin_function_or_method",
    "instance",
    "_Feature"
   ],
   "window_display": false
  }
 },
 "nbformat": 4,
 "nbformat_minor": 2
}
