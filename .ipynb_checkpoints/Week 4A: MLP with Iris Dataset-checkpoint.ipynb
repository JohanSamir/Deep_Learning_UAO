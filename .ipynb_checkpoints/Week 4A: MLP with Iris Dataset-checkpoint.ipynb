{
 "cells": [
  {
   "cell_type": "code",
   "execution_count": 1,
   "metadata": {},
   "outputs": [],
   "source": [
    "import numpy as np\n",
    "import matplotlib.pyplot as plt\n",
    "import tensorflow as tf\n",
    "import csv\n",
    "import itertools\n",
    "from sklearn.metrics import confusion_matrix\n",
    "import pandas as pd"
   ]
  },
  {
   "cell_type": "code",
   "execution_count": 2,
   "metadata": {},
   "outputs": [],
   "source": [
    "# Ruta de los archivos con los datos de entrenamiento y validación\n",
    "DATA_FILE_TRAINING = 'data/iris_training_No_header.csv'\n",
    "DATA_FILE_TEST = 'data/iris_test_No_header.csv' \n",
    "DATA_FILE_PESOS = 'data/MLP_Pesos.csv'\n",
    "\n",
    "#Definición de los arreglos que almacenarán los datos de entrenamiento\n",
    "data = np.zeros([120,5],dtype=np.float64)\n",
    "x_train = np.zeros([120,4],dtype=np.float64)\n",
    "y_train = np.zeros([120,3],dtype=np.float64)\n",
    "y_train_CM = np.zeros([120,1],dtype=np.float64)\n",
    "Out_CM = np.zeros([120,1],dtype=np.float64)"
   ]
  },
  {
   "cell_type": "code",
   "execution_count": 3,
   "metadata": {},
   "outputs": [
    {
     "name": "stdout",
     "output_type": "stream",
     "text": [
      "(120, 5)\n",
      "     sepal-length  sepal-width  petal-length  petal-width  class\n",
      "115           5.5          2.6           4.4          1.2      1\n",
      "116           5.7          3.0           4.2          1.2      1\n",
      "117           4.4          2.9           1.4          0.2      0\n",
      "118           4.8          3.0           1.4          0.1      0\n",
      "119           5.5          2.4           3.7          1.0      1\n"
     ]
    }
   ],
   "source": [
    "url = \"data/iris_training_No_header.csv\"\n",
    "names = ['sepal-length', 'sepal-width', 'petal-length', 'petal-width', 'class']\n",
    "dataset = pd.read_csv(url, names=names)\n",
    "\n",
    "print(dataset.shape)\n",
    "print(dataset.tail())"
   ]
  },
  {
   "cell_type": "code",
   "execution_count": 4,
   "metadata": {},
   "outputs": [
    {
     "name": "stdout",
     "output_type": "stream",
     "text": [
      "       sepal-length  sepal-width  petal-length  petal-width       class\n",
      "count    120.000000   120.000000    120.000000   120.000000  120.000000\n",
      "mean       5.845000     3.065000      3.739167     1.196667    1.000000\n",
      "std        0.868578     0.427156      1.822100     0.782039    0.840168\n",
      "min        4.400000     2.000000      1.000000     0.100000    0.000000\n",
      "25%        5.075000     2.800000      1.500000     0.300000    0.000000\n",
      "50%        5.800000     3.000000      4.400000     1.300000    1.000000\n",
      "75%        6.425000     3.300000      5.100000     1.800000    2.000000\n",
      "max        7.900000     4.400000      6.900000     2.500000    2.000000\n",
      "\n",
      " class\n",
      "0    42\n",
      "1    36\n",
      "2    42\n",
      "dtype: int64\n"
     ]
    }
   ],
   "source": [
    "print(dataset.describe())\n",
    "print('\\n',dataset.groupby('class').size())"
   ]
  },
  {
   "cell_type": "code",
   "execution_count": 5,
   "metadata": {},
   "outputs": [
    {
     "name": "stdout",
     "output_type": "stream",
     "text": [
      "120\n"
     ]
    }
   ],
   "source": [
    "#Lectura de los datos de entrenamiento desde el archivo\n",
    "cont=0;\n",
    "with open(DATA_FILE_TRAINING) as csvfile:\n",
    "    readCSV = csv.reader(csvfile, delimiter=',')\n",
    "    for row in readCSV:\n",
    "        data[cont,:]=(np.asarray(row))  \n",
    "        x_train[cont,0] = data[cont,0]\n",
    "        x_train[cont,1] = data[cont,1]        \n",
    "        x_train[cont,2] = data[cont,2]\n",
    "        x_train[cont,3] = data[cont,3]\n",
    "        y_train_CM[cont] = data[cont,4]\n",
    "#En archivo la clase viene como 0, 1 y 2. En este caso lo habitual es que quede una \n",
    "#neurona activa por clase. Es decir dependiendo de la clase solo se activará una #neurona\n",
    "        if data[cont,4]==0:\n",
    "               y_train[cont,0] =1\n",
    "               y_train[cont,1] =0\n",
    "               y_train[cont,2] =0                     \n",
    "        if data[cont,4]==1:\n",
    "               y_train[cont,0] =0\n",
    "               y_train[cont,1] =1\n",
    "               y_train[cont,2] =0 \n",
    "        if data[cont,4]==2:\n",
    "               y_train[cont,0] =0\n",
    "               y_train[cont,1] =0\n",
    "               y_train[cont,2] =1                       \n",
    "        cont=cont+1\n",
    "\n",
    "n_samples=cont \n",
    "print(n_samples)   \n"
   ]
  },
  {
   "cell_type": "code",
   "execution_count": 6,
   "metadata": {},
   "outputs": [],
   "source": [
    "# Definición de los place holders para los datos de entrenamiento y validación\n",
    "# como se tiene una cantidad de datos diferentes para entrenar (120)  y para validar #(30)  se deja indefinido el tamaño \n",
    "X = tf.placeholder(tf.float32,(None, None), name='X')\n",
    "Y = tf.placeholder(tf.float32,(None, None), name='Y')\n",
    "\n",
    "# Definición de las variables para los pesos de la RNA\n",
    "Wco = tf.Variable(tf.random_uniform((4,10),-1,1))\n",
    "bco = tf.Variable(tf.random_uniform((10,),-1,1))\n",
    "\n",
    "Wcs = tf.Variable(tf.random_uniform((10,3),-1,1))\n",
    "bcs = tf.Variable(tf.random_uniform((3,),-1,1))\n",
    "\n",
    "#Calculo de la salida.\n",
    "#Capa oculta tangente sigmoidal\n",
    "#Capa de salida sigmoidal\n",
    "OutputCo = tf.tanh(tf.matmul(X,Wco)+bco)\n",
    "Output = tf.nn.sigmoid((tf.matmul(OutputCo,Wcs)+bcs))"
   ]
  },
  {
   "cell_type": "code",
   "execution_count": 7,
   "metadata": {},
   "outputs": [],
   "source": [
    "# Función de pérdida MSE\n",
    "loss = tf.reduce_mean(tf.square(Y-Output))\n",
    "\n",
    "# optimizador\n",
    "optimizer = tf.train.GradientDescentOptimizer(0.1)\n",
    "train = optimizer.minimize(loss)\n",
    "# Entrenamiento de la red\n",
    "init = tf.global_variables_initializer()\n",
    "\n",
    "sess = tf.Session()\n",
    "sess.run(init) "
   ]
  },
  {
   "cell_type": "code",
   "execution_count": 8,
   "metadata": {},
   "outputs": [
    {
     "name": "stdout",
     "output_type": "stream",
     "text": [
      "Loss: 0.013740423 Output: [[6.18924270e-04 4.02760059e-02 9.80428040e-01]\n",
      " [6.48865998e-02 9.64254260e-01 9.55376681e-03]\n",
      " [1.08147622e-03 6.38353676e-02 9.60586190e-01]\n",
      " [9.57734764e-01 6.29297942e-02 2.98187463e-03]\n",
      " [9.63247776e-01 4.16701324e-02 3.25279124e-03]\n",
      " [9.63127136e-01 4.50819433e-02 3.27583821e-03]\n",
      " [9.61311817e-01 4.55467813e-02 3.21975304e-03]\n",
      " [1.58829696e-03 1.63297251e-01 8.73073578e-01]\n",
      " [6.26801550e-02 9.72584128e-01 7.99798034e-03]\n",
      " [9.64332283e-01 3.90240029e-02 3.32881138e-03]\n",
      " [2.29148827e-02 8.72611463e-01 5.89497909e-02]\n",
      " [2.78577860e-02 9.44958031e-01 2.56494507e-02]\n",
      " [9.65547919e-01 3.61389443e-02 3.31890862e-03]\n",
      " [9.64216709e-01 3.90323624e-02 3.32164485e-03]\n",
      " [9.89602297e-04 6.76737502e-02 9.59887981e-01]\n",
      " [2.86154877e-02 9.18151617e-01 3.55581157e-02]\n",
      " [6.79577293e-04 4.36131097e-02 9.77612019e-01]\n",
      " [6.22539024e-04 4.21586782e-02 9.79682088e-01]\n",
      " [9.54079675e-04 5.72823808e-02 9.63192940e-01]\n",
      " [9.65830326e-01 3.53121199e-02 3.36422957e-03]\n",
      " [1.07430166e-03 7.52052814e-02 9.52826023e-01]\n",
      " [6.59665267e-04 4.34659757e-02 9.78381157e-01]\n",
      " [9.65365350e-01 3.64329517e-02 3.34071834e-03]\n",
      " [1.17274316e-03 7.86536261e-02 9.52673256e-01]\n",
      " [2.99778860e-03 3.09974790e-01 7.07827151e-01]\n",
      " [9.62856472e-01 4.40845266e-02 3.21922963e-03]\n",
      " [4.09198701e-02 9.58906174e-01 1.53717352e-02]\n",
      " [1.63766684e-03 1.17993668e-01 9.12065268e-01]\n",
      " [9.58464295e-03 6.30518258e-01 2.82275319e-01]\n",
      " [7.61232525e-03 7.25534558e-01 2.27587789e-01]\n",
      " [1.23349279e-02 8.70313048e-01 8.61253664e-02]\n",
      " [1.25133753e-01 9.57256675e-01 5.62219275e-03]\n",
      " [4.78599966e-02 9.57746327e-01 1.39166303e-02]\n",
      " [9.99881187e-04 7.80472085e-02 9.52271283e-01]\n",
      " [2.79509160e-03 3.05059701e-01 7.17596054e-01]\n",
      " [8.01742484e-04 5.48707582e-02 9.69235122e-01]\n",
      " [2.69049080e-03 2.76852518e-01 7.45492876e-01]\n",
      " [6.25660527e-04 3.37206088e-02 9.82147336e-01]\n",
      " [9.64855134e-01 3.83819416e-02 3.33832204e-03]\n",
      " [9.58061457e-01 5.68257980e-02 3.09605827e-03]\n",
      " [2.98527326e-03 3.34275246e-01 6.98964715e-01]\n",
      " [8.49532138e-04 5.54223657e-02 9.69061911e-01]\n",
      " [9.90920351e-04 7.52739310e-02 9.52253342e-01]\n",
      " [9.62857068e-01 4.27187085e-02 3.30980401e-03]\n",
      " [9.59225237e-01 5.63779324e-02 3.10923602e-03]\n",
      " [1.34071358e-03 9.95572135e-02 9.30867255e-01]\n",
      " [9.61880147e-01 4.79310080e-02 3.21023283e-03]\n",
      " [5.16699860e-04 3.48942913e-02 9.84779298e-01]\n",
      " [9.65770602e-01 3.72123085e-02 3.38320271e-03]\n",
      " [1.60665729e-03 1.39929965e-01 8.97305608e-01]\n",
      " [9.62063193e-01 4.66387719e-02 3.18515766e-03]\n",
      " [5.04682288e-02 9.68071997e-01 1.06090987e-02]\n",
      " [5.69568649e-02 9.68220592e-01 9.55001265e-03]\n",
      " [9.62660491e-01 4.48293686e-02 3.19131487e-03]\n",
      " [5.86573295e-02 9.73418236e-01 8.36058427e-03]\n",
      " [3.40669136e-03 3.28898221e-01 6.75046265e-01]\n",
      " [8.97430815e-04 6.53293580e-02 9.61858571e-01]\n",
      " [8.49532138e-04 5.54223657e-02 9.69061911e-01]\n",
      " [1.07113773e-03 5.18306978e-02 9.63453352e-01]\n",
      " [2.41349470e-02 9.26153064e-01 3.61703672e-02]\n",
      " [4.32373323e-02 9.60365057e-01 1.45514067e-02]\n",
      " [6.82784244e-04 4.29642461e-02 9.77251530e-01]\n",
      " [1.09326944e-03 8.60886723e-02 9.44553375e-01]\n",
      " [1.51875685e-03 1.16486400e-01 9.17133451e-01]\n",
      " [4.56509320e-03 5.07039428e-01 4.62340504e-01]\n",
      " [8.43207818e-04 5.87624311e-02 9.67445314e-01]\n",
      " [9.60815370e-01 5.18803298e-02 3.16727045e-03]\n",
      " [7.75463413e-04 4.75116745e-02 9.73223090e-01]\n",
      " [1.39814080e-03 1.10770226e-01 9.23463762e-01]\n",
      " [9.62285995e-01 4.60888632e-02 3.20429238e-03]\n",
      " [9.62488413e-01 4.59913276e-02 3.21436441e-03]\n",
      " [3.86556499e-02 9.61839676e-01 1.51790157e-02]\n",
      " [9.63625312e-01 4.14823070e-02 3.22774821e-03]\n",
      " [7.42218166e-04 5.46408147e-02 9.70643640e-01]\n",
      " [3.02780326e-03 2.96760589e-01 7.19135284e-01]\n",
      " [9.57734764e-01 6.29297942e-02 2.98187463e-03]\n",
      " [3.84962820e-02 9.56029832e-01 1.70383211e-02]\n",
      " [4.16787490e-02 9.47458088e-01 1.90669019e-02]\n",
      " [1.63491443e-02 8.64316821e-01 7.97991678e-02]\n",
      " [9.74235008e-04 7.22879469e-02 9.56574440e-01]\n",
      " [9.64010596e-01 4.06083502e-02 3.26599763e-03]\n",
      " [1.58657338e-02 8.59104276e-01 8.63686949e-02]\n",
      " [1.75095238e-02 9.07594562e-01 5.29119745e-02]\n",
      " [2.38537025e-02 9.08920169e-01 4.48443107e-02]\n",
      " [8.22820235e-04 4.07662280e-02 9.75029051e-01]\n",
      " [9.57734764e-01 6.29297942e-02 2.98187463e-03]\n",
      " [2.02899165e-02 9.28757846e-01 3.85895371e-02]\n",
      " [1.70855969e-02 8.53150725e-01 8.75034034e-02]\n",
      " [1.69917999e-03 1.36725575e-01 8.97619903e-01]\n",
      " [9.64283824e-01 3.97653691e-02 3.29910917e-03]\n",
      " [1.47230725e-03 1.30162522e-01 9.05664802e-01]\n",
      " [2.34290306e-02 9.14668620e-01 4.41969335e-02]\n",
      " [9.63675022e-01 4.11627889e-02 3.27528082e-03]\n",
      " [9.59204197e-01 5.65712266e-02 3.10705835e-03]\n",
      " [6.38239668e-04 4.09737267e-02 9.79890347e-01]\n",
      " [9.63758290e-01 4.19417992e-02 3.31774168e-03]\n",
      " [9.61863875e-01 4.82240878e-02 3.20603512e-03]\n",
      " [6.17470709e-04 4.16722745e-02 9.80067194e-01]\n",
      " [5.14439680e-03 4.23149019e-01 5.31754017e-01]\n",
      " [9.64505017e-01 3.98904271e-02 3.31711094e-03]\n",
      " [9.57638443e-01 6.05524443e-02 3.01871868e-03]\n",
      " [7.80161694e-02 9.63469625e-01 8.40551034e-03]\n",
      " [9.30362523e-01 1.51560694e-01 2.64652050e-03]\n",
      " [6.45058602e-02 9.72708821e-01 8.31289310e-03]\n",
      " [9.61262941e-01 4.62210365e-02 3.24457395e-03]\n",
      " [9.62669671e-01 4.45489846e-02 3.20236757e-03]\n",
      " [9.64134097e-01 4.04157192e-02 3.27698281e-03]\n",
      " [9.64382410e-01 4.01805118e-02 3.29967658e-03]\n",
      " [9.85647142e-02 9.61003602e-01 6.67864224e-03]\n",
      " [9.56694245e-01 6.43086359e-02 3.01173935e-03]\n",
      " [2.10943678e-03 2.17604131e-01 8.17065239e-01]\n",
      " [4.02040258e-02 9.48764145e-01 1.88309439e-02]\n",
      " [9.52756464e-01 7.73893744e-02 2.88286083e-03]\n",
      " [5.96235623e-04 3.43853571e-02 9.83134747e-01]\n",
      " [9.61590052e-01 4.29984257e-02 3.32734361e-03]\n",
      " [1.42281773e-02 8.11742067e-01 1.22826159e-01]\n",
      " [6.31891415e-02 9.64081287e-01 1.04312459e-02]\n",
      " [9.57537651e-01 6.25547543e-02 3.05445353e-03]\n",
      " [9.57709610e-01 6.31792918e-02 2.97715771e-03]\n",
      " [5.40966205e-02 9.68214750e-01 1.02991154e-02]] \n"
     ]
    }
   ],
   "source": [
    "# Se entrena la red 5000 iteracioens\n",
    "for i in range(5000):\n",
    "    sess.run(train, {X: x_train, Y: y_train})\n",
    "\n",
    "# Se prueba la red con los datos de entrenamiento\n",
    "curr_loss, curr_Output = sess.run([loss,Output], {X:  x_train, Y: y_train})\n",
    "print(\"Loss: %s Output: %s \"%(curr_loss,curr_Output))"
   ]
  },
  {
   "cell_type": "code",
   "execution_count": 9,
   "metadata": {},
   "outputs": [],
   "source": [
    "#Para la matriz de confusión se necesita la posición de la neurona que tuvo mayor #activación, \n",
    "#esto determina la clase\n",
    "for i in range(0,120):\n",
    "    Out_CM[i] = np.argmax(curr_Output[i,:])\n",
    "\n",
    "#Nombres de las clases para la matriz de confusión    \n",
    "class_names=['setosa', 'versicolor', 'virginica']\n",
    "\n",
    "#Función que permite graficar la matriz de confusión\n",
    "def plot_confusion_matrix(cm, classes,\n",
    "                          normalize=False,\n",
    "                          title='Confusion matrix',\n",
    "                          cmap=plt.cm.Blues):\n",
    "    \"\"\"\n",
    "    This function prints and plots the confusion matrix.\n",
    "    Normalization can be applied by setting `normalize=True`.\n",
    "    \"\"\"\n",
    "    if normalize:\n",
    "        cm = cm.astype('float') / cm.sum(axis=1)[:, np.newaxis]\n",
    "        print(\" Matrix de confusion Normalizada \")\n",
    "    else:\n",
    "        print('Matrix de confusion No Normalizada')\n",
    "\n",
    "    print(cm)\n",
    "\n",
    "    plt.imshow(cm, interpolation='nearest', cmap=cmap)\n",
    "    plt.title(title)\n",
    "    plt.colorbar()\n",
    "    tick_marks = np.arange(len(classes))\n",
    "    plt.xticks(tick_marks, classes, rotation=45)\n",
    "    plt.yticks(tick_marks, classes)\n",
    "\n",
    "    fmt = '.2f' if normalize else 'd'\n",
    "    thresh = cm.max() / 2.\n",
    "    for i, j in itertools.product(range(cm.shape[0]), range(cm.shape[1])):\n",
    "        plt.text(j, i, format(cm[i, j], fmt),\n",
    "                 horizontalalignment=\"center\",\n",
    "                 color=\"white\" if cm[i, j] > thresh else \"black\")\n",
    "\n",
    "    plt.tight_layout()\n",
    "    plt.ylabel('Salida Deseada')\n",
    "    plt.xlabel('Salida Estimada')"
   ]
  },
  {
   "cell_type": "code",
   "execution_count": 10,
   "metadata": {},
   "outputs": [
    {
     "name": "stdout",
     "output_type": "stream",
     "text": [
      "Matrix de confusion No Normalizada\n",
      "[[42  0  0]\n",
      " [ 0 34  2]\n",
      " [ 0  0 42]]\n",
      " Matrix de confusion Normalizada \n",
      "[[1.   0.   0.  ]\n",
      " [0.   0.94 0.06]\n",
      " [0.   0.   1.  ]]\n"
     ]
    },
    {
     "data": {
      "image/png": "[encoded data removed]",
      "text/plain": [
       "<matplotlib.figure.Figure at 0x7fa729938ef0>"
      ]
     },
     "metadata": {},
     "output_type": "display_data"
    },
    {
     "data": {
      "image/png": "[encoded data removed]",
      "text/plain": [
       "<matplotlib.figure.Figure at 0x7fa72994d3c8>"
      ]
     },
     "metadata": {},
     "output_type": "display_data"
    }
   ],
   "source": [
    "# Calculo de la matriz de confusión\n",
    "cnf_matrix = confusion_matrix(y_train_CM, Out_CM)\n",
    "np.set_printoptions(precision=2)\n",
    "\n",
    "# Graficación de la matriz de confusión no normalizada \n",
    "plt.figure()\n",
    "plot_confusion_matrix(cnf_matrix, classes=class_names,\n",
    "                      title='Matrix de confusion No Normalizada')\n",
    "\n",
    "# Graficación de la matriz de confusión normalizada\n",
    "plt.figure()\n",
    "plot_confusion_matrix(cnf_matrix, classes=class_names, normalize=True,\n",
    "                      title='Matrix de confusion Normalizada')\n",
    "\n",
    "plt.show()"
   ]
  },
  {
   "cell_type": "code",
   "execution_count": 11,
   "metadata": {},
   "outputs": [
    {
     "name": "stdout",
     "output_type": "stream",
     "text": [
      "30\n"
     ]
    }
   ],
   "source": [
    "#Definición de los arreglos que almacenaráan los datos de validación\n",
    "data2 = np.zeros([30,5],dtype=np.float64)\n",
    "x_test = np.zeros([30,4],dtype=np.float64)\n",
    "y_test = np.zeros([30,3],dtype=np.float64)\n",
    "y_test_CM = np.zeros([30,1],dtype=np.float64)\n",
    "Out_test_CM = np.zeros([30,1],dtype=np.float64)\n",
    "#Lectura de los datos de entrenamiento desde el archivo\n",
    "cont=0;\n",
    "with open(DATA_FILE_TEST) as csvfile:\n",
    "    \n",
    "    readCSV = csv.reader(csvfile, delimiter=',')\n",
    "    \n",
    "    for row in readCSV:\n",
    "        data2[cont,:]=(np.asarray(row))  \n",
    "        x_test[cont,0] = data2[cont,0]\n",
    "        x_test[cont,1] = data2[cont,1]        \n",
    "        x_test[cont,2] = data2[cont,2]\n",
    "        x_test[cont,3] = data2[cont,3]\n",
    "        y_test_CM[cont]=data2[cont,4]\n",
    "        if data2[cont,4]==0:\n",
    "               y_test[cont,0] =1\n",
    "               y_test[cont,1] =0\n",
    "               y_test[cont,2] =0                     \n",
    "        if data2[cont,4]==1:\n",
    "               y_test[cont,0] =0\n",
    "               y_test[cont,1] =1\n",
    "               y_test[cont,2] =0 \n",
    "        if data2[cont,4]==2:\n",
    "               y_test[cont,0] =0\n",
    "               y_test[cont,1] =0\n",
    "               y_test[cont,2] =1                       \n",
    "        cont=cont+1\n",
    "    #    print(cont)\n",
    "        \n",
    "n_samples=cont \n",
    "print(n_samples)   "
   ]
  },
  {
   "cell_type": "code",
   "execution_count": 12,
   "metadata": {},
   "outputs": [
    {
     "name": "stdout",
     "output_type": "stream",
     "text": [
      "Loss: 0.015488229 Output: [[3.70e-02 9.36e-01 2.31e-02]\n",
      " [1.44e-03 1.37e-01 9.02e-01]\n",
      " [9.57e-01 5.36e-02 3.21e-03]\n",
      " [4.06e-02 9.18e-01 2.63e-02]\n",
      " [2.02e-02 8.99e-01 5.30e-02]\n",
      " [4.85e-02 9.65e-01 1.21e-02]\n",
      " [9.66e-01 3.59e-02 3.36e-03]\n",
      " [4.09e-03 4.11e-01 5.84e-01]\n",
      " [5.68e-02 9.54e-01 1.33e-02]\n",
      " [7.35e-04 5.00e-02 9.74e-01]\n",
      " [7.94e-04 5.71e-02 9.69e-01]\n",
      " [9.63e-01 4.74e-02 3.22e-03]\n",
      " [9.23e-04 5.48e-02 9.67e-01]\n",
      " [1.24e-02 8.31e-01 1.12e-01]\n",
      " [2.87e-02 9.56e-01 2.06e-02]\n",
      " [9.64e-01 4.20e-02 3.25e-03]\n",
      " [9.81e-02 9.76e-01 5.07e-03]\n",
      " [9.58e-01 6.05e-02 3.09e-03]\n",
      " [9.62e-01 4.65e-02 3.19e-03]\n",
      " [6.88e-04 4.42e-02 9.77e-01]\n",
      " [9.59e-01 5.55e-02 3.07e-03]\n",
      " [1.26e-02 7.54e-01 1.65e-01]\n",
      " [9.43e-04 6.38e-02 9.63e-01]\n",
      " [3.58e-03 3.79e-01 6.21e-01]\n",
      " [5.77e-02 9.68e-01 9.80e-03]\n",
      " [2.57e-02 9.20e-01 3.87e-02]\n",
      " [9.66e-01 3.71e-02 3.37e-03]\n",
      " [3.40e-02 9.52e-01 1.97e-02]\n",
      " [6.94e-04 3.98e-02 9.78e-01]\n",
      " [5.27e-02 9.69e-01 1.01e-02]] \n"
     ]
    }
   ],
   "source": [
    "# Se prueba la red con los datos de validación\n",
    "curr_loss, curr_Output = sess.run([loss,Output], {X:  x_test, Y: y_test})\n",
    "print(\"Loss: %s Output: %s \"%(curr_loss,curr_Output))\n",
    "\n",
    "for ii in range(0,30):\n",
    "    Out_test_CM[ii] = np.argmax(curr_Output[ii,:])"
   ]
  },
  {
   "cell_type": "code",
   "execution_count": 13,
   "metadata": {},
   "outputs": [
    {
     "name": "stdout",
     "output_type": "stream",
     "text": [
      "Matrix de confusion No Normalizada\n",
      "[[ 8  0  0]\n",
      " [ 0 13  1]\n",
      " [ 0  0  8]]\n",
      " Matrix de confusion Normalizada \n",
      "[[1.   0.   0.  ]\n",
      " [0.   0.93 0.07]\n",
      " [0.   0.   1.  ]]\n"
     ]
    },
    {
     "data": {
      "image/png": "[encoded data removed]",
      "text/plain": [
       "<matplotlib.figure.Figure at 0x7fa7157c4cf8>"
      ]
     },
     "metadata": {},
     "output_type": "display_data"
    },
    {
     "data": {
      "image/png": "[encoded data removed]",
      "text/plain": [
       "<matplotlib.figure.Figure at 0x7fa7284874a8>"
      ]
     },
     "metadata": {},
     "output_type": "display_data"
    }
   ],
   "source": [
    "#Calculo de la matriz de confusión\n",
    "cnf_matrix = confusion_matrix(y_test_CM, Out_test_CM)\n",
    "np.set_printoptions(precision=2)\n",
    "\n",
    "# Graficación de la matriz de confusión no normalizada \n",
    "plt.figure()\n",
    "plot_confusion_matrix(cnf_matrix, classes=class_names,\n",
    "                      title='Matrix de confusion No Normalizada')\n",
    "\n",
    "# Graficación de la matriz de confusión normalizada \n",
    "plt.figure()\n",
    "plot_confusion_matrix(cnf_matrix, classes=class_names, normalize=True,\n",
    "                      title='Matrix de confusion Normalizada')\n",
    "\n",
    "plt.show()\n"
   ]
  }
 ],
 "metadata": {
  "kernelspec": {
   "display_name": "Python 3",
   "language": "python",
   "name": "python3"
  },
  "language_info": {
   "codemirror_mode": {
    "name": "ipython",
    "version": 2
   },
   "file_extension": ".py",
   "mimetype": "text/x-python",
   "name": "python",
   "nbconvert_exporter": "python",
   "pygments_lexer": "ipython2",
   "version": "2.7.15"
  },
  "varInspector": {
   "cols": {
    "lenName": 16,
    "lenType": 16,
    "lenVar": 40
   },
   "kernels_config": {
    "python": {
     "delete_cmd_postfix": "",
     "delete_cmd_prefix": "del ",
     "library": "var_list.py",
     "varRefreshCmd": "print(var_dic_list())"
    },
    "r": {
     "delete_cmd_postfix": ") ",
     "delete_cmd_prefix": "rm(",
     "library": "var_list.r",
     "varRefreshCmd": "cat(var_dic_list()) "
    }
   },
   "types_to_exclude": [
    "module",
    "function",
    "builtin_function_or_method",
    "instance",
    "_Feature"
   ],
   "window_display": false
  }
 },
 "nbformat": 4,
 "nbformat_minor": 2
}
