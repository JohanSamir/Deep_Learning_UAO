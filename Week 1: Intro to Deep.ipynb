{
 "cells": [
  {
   "cell_type": "code",
   "execution_count": 10,
   "metadata": {},
   "outputs": [
    {
     "ename": "SyntaxError",
     "evalue": "invalid syntax (<ipython-input-10-78355866f979>, line 3)",
     "output_type": "error",
     "traceback": [
      "\u001b[0;36m  File \u001b[0;32m\"<ipython-input-10-78355866f979>\"\u001b[0;36m, line \u001b[0;32m3\u001b[0m\n\u001b[0;31m    x = -4:0.1:4;\u001b[0m\n\u001b[0m          ^\u001b[0m\n\u001b[0;31mSyntaxError\u001b[0m\u001b[0;31m:\u001b[0m invalid syntax\n"
     ]
    }
   ],
   "source": [
    "clc; clear;\n",
    "\n",
    "x = -4:0.1:4;\n",
    "\n",
    "#tanh\n",
    "tanh = (exp(x) - exp(-x)) ./ (exp(x) + exp(-x));\n",
    "plot(x, tanh, 'r-', 'LineWidth', 2);\n",
    "axis([-4, 4, -1.05, 2]); \n",
    "axis square;\n",
    "grid on;\n",
    "hold on;\n",
    "\n",
    "#sigmoid\n",
    "sigmoid = 1./(1 + exp(-x));\n",
    "plot(x, sigmoid, 'g-', 'LineWidth', 2);\n",
    "hold on;\n",
    "\n",
    "#softplus\n",
    "softplus = log(1+exp(x));\n",
    "plot(x, softplus, 'b-', 'LineWidth', 2);\n",
    "hold on;\n",
    "\n",
    "#softsign \n",
    "softsign = x ./ (abs(x)+1);\n",
    "plot(x, softsign, 'c-', 'LineWidth', 2);\n",
    "hold on;\n",
    "\n",
    "# ELU\n",
    "elu = x .* ( x > 0 ) + ( exp(x)-1 ) .* ( x <= 0 );\n",
    "plot(x, elu, 'Color', [0.5,0.5,0.5], 'LineWidth', 2);\n",
    "hold on;\n",
    "\n",
    "#ReLU\n",
    "relu = x.*( x > 0 );\n",
    "plot(x, relu, 'Color', [0., 0., 0.], 'LineWidth', 2);\n",
    "hold on;\n",
    "\n",
    "#SReLU\n",
    "srelu = x.*( x > -1 ) - ( x <= -1 ) ;\n",
    "plot(x, srelu, 'Color', [0.5, 0., 0.], 'LineWidth', 2);\n",
    "hold on;\n",
    "\n",
    "#LReLU/PReLU/RReLU\n",
    "lrelu = x.*(x>0) + 0.1*x.*(x<=0);\n",
    "plot(x, lrelu, 'Color', [0.75, 0., 0.5], 'LineWidth', 2);\n",
    "hold on;\n",
    "\n",
    "title('Activation Functions');\n",
    "legend('tanh', 'sigmoid', 'softplus', 'softsign', 'ELU', 'ReLU', 'SReLU', 'LReLU/PReLU');"
   ]
  },
  {
   "cell_type": "code",
   "execution_count": 11,
   "metadata": {},
   "outputs": [
    {
     "name": "stdout",
     "output_type": "stream",
     "text": [
      "Neta:  -10.5\n",
      "Salida: 0.0\n"
     ]
    }
   ],
   "source": [
    "import tensorflow as tf\n",
    "\n",
    "#Creacion del grafo\n",
    "x=tf.constant(-3.0)\n",
    "w=tf.constant(3.0)\n",
    "b=tf.constant(-1.5)\n",
    "\n",
    "SalidaAux=tf.multiply(x,w)# 1 en el grafo\n",
    "Neta=tf.add(SalidaAux,b)# 2 en el grafo\n",
    "Salida=tf.nn.relu(Neta)# 3 en el grafo\n",
    "#Salida=Neta\n",
    "\n",
    "#Ejecucion del grafo\n",
    "sess=tf.Session()\n",
    "ValorSalida=sess.run(Salida)\n",
    "ValorNeta=sess.run(Neta)\n",
    "\n",
    "print(\"Neta: \",ValorNeta)\n",
    "\n",
    "print(\"Salida: %s\"%(ValorSalida))"
   ]
  },
  {
   "cell_type": "code",
   "execution_count": 12,
   "metadata": {},
   "outputs": [
    {
     "name": "stdout",
     "output_type": "stream",
     "text": [
      "Neta: [ 13.5   4.5  -1.5  -7.5 -16.5]\n",
      "Salida: [13.5  4.5  0.   0.   0. ]\n"
     ]
    }
   ],
   "source": [
    "import tensorflow as tf\n",
    "\n",
    "#Creacion del grafo\n",
    "x=tf.placeholder(tf.float32)\n",
    "w=tf.Variable([-3.0],dtype=tf.float32)\n",
    "b=tf.constant([-1.5],dtype=tf.float32)\n",
    "\n",
    "Neta=tf.add(tf.multiply(x,w),b)\n",
    "Salida=tf.nn.relu(Neta)\n",
    "#Salida=Neta\n",
    "\n",
    "#Ejecucion del grafo\n",
    "init=tf.global_variables_initializer()\n",
    "sess=tf.Session()\n",
    "sess.run(init)\n",
    "\n",
    "ValorNeta=sess.run(Neta,{x:[-5, -2, 0, 2, 5]})\n",
    "ValorSalida=sess.run(Salida,{x: [-5, -2, 0, 2, 5]})\n",
    "\n",
    "print(\"Neta: %s\"%(ValorNeta))\n",
    "print(\"Salida: %s\"%(ValorSalida))"
   ]
  },
  {
   "cell_type": "code",
   "execution_count": 13,
   "metadata": {},
   "outputs": [
    {
     "name": "stdout",
     "output_type": "stream",
     "text": [
      "Neta: [[-0.018     ]\n",
      " [ 0.066     ]\n",
      " [ 0.075     ]\n",
      " [ 0.15900001]]\n",
      "Salida: [[0.        ]\n",
      " [0.066     ]\n",
      " [0.075     ]\n",
      " [0.15900001]]\n"
     ]
    }
   ],
   "source": [
    "import tensorflow as tf\n",
    "\n",
    "#construccion del modelo o grafo\n",
    "x=tf.placeholder(tf.float32)\n",
    "w=tf.Variable([[0.093],[0.084]],dtype=tf.float32)\n",
    "b=tf.constant([-0.018],dtype=tf.float32)\n",
    "\n",
    "\n",
    "Neta=tf.matmul(x,w)+b\n",
    "Salida=tf.nn.relu(Neta)\n",
    "\n",
    "#Ejecucion del grafo\n",
    "init=tf.global_variables_initializer()\n",
    "sess=tf.Session()\n",
    "sess.run(init)\n",
    "\n",
    "ValorNeta=sess.run(Neta,{x:[[0,0],[0,1],[1,0],[1,1]]})\n",
    "ValorSalida=sess.run(Salida,{x: [[0,0],[0,1],[1,0],[1,1]]})\n",
    "\n",
    "\n",
    "print(\"Neta: %s\"%(ValorNeta))\n",
    "print(\"Salida: %s\"%(ValorSalida))\n"
   ]
  },
  {
   "cell_type": "markdown",
   "metadata": {},
   "source": [
    "# MLP_AND"
   ]
  },
  {
   "cell_type": "code",
   "execution_count": 14,
   "metadata": {},
   "outputs": [],
   "source": [
    "import tensorflow as tf\n",
    "\n",
    "# training data\n",
    "x_train = [[0,0],[0,1],[1,0],[1,1]]\n",
    "y_train = [[0],[0],[0],[1]]\n",
    "\n",
    "# Model parameters\n",
    "Wco = tf.Variable(tf.random_uniform((2,10),-1,1))\n",
    "bco = tf.Variable(tf.random_uniform((10,),-1,1))\n",
    "\n",
    "Wcs = tf.Variable(tf.random_uniform((10,1),-1,1))\n",
    "bcs = tf.Variable(tf.random_uniform((1,),-1,1))\n",
    "\n",
    "# Model input and output\n",
    "x = tf.placeholder(tf.float32,(4,2))\n",
    "y = tf.placeholder(tf.float32,(4,1))\n",
    "\n",
    "OutputCo= tf.tanh(tf.matmul(x,Wco)+bco)\n",
    "Output= tf.sigmoid(tf.matmul(OutputCo,Wcs)+bcs)"
   ]
  },
  {
   "cell_type": "code",
   "execution_count": 15,
   "metadata": {},
   "outputs": [
    {
     "name": "stdout",
     "output_type": "stream",
     "text": [
      "loss: 0.002578527 Output: [[5.8427558e-04]\n",
      " [2.7111499e-02]\n",
      " [2.5764802e-02]\n",
      " [9.6565866e-01]] \n"
     ]
    }
   ],
   "source": [
    "# loss\n",
    "loss = tf.reduce_sum(tf.square(Output - y)) # sum of the squares\n",
    "# optimizer\n",
    "optimizer = tf.train.GradientDescentOptimizer(0.01)\n",
    "train = optimizer.minimize(loss)\n",
    "\n",
    "# training loop\n",
    "init = tf.global_variables_initializer()\n",
    "sess = tf.Session()\n",
    "sess.run(init) \n",
    "for i in range(10000):\n",
    "    sess.run(train, {x: x_train, y: y_train})\n",
    "\n",
    "# evaluate training accuracy\n",
    "curr_Wco, curr_bco, curr_Wcs, curr_bcs,curr_loss, curr_Output = sess.run([Wco, bco,Wcs, bcs, loss,Output], {x: x_train, y: y_train})\n",
    "#print(\"Wco: %s bco: %s Wcs: %s bcs: %s loss: %s Output: %s \"%(curr_Wco, curr_bco, curr_Wcs, curr_bcs,curr_loss,curr_Output))\n",
    "print(\"loss: %s Output: %s \"%(curr_loss,curr_Output))"
   ]
  },
  {
   "cell_type": "markdown",
   "metadata": {},
   "source": [
    "## MLP_XOR"
   ]
  },
  {
   "cell_type": "code",
   "execution_count": 16,
   "metadata": {},
   "outputs": [],
   "source": [
    "import tensorflow as tf\n",
    "\n",
    "# training data\n",
    "x_train = [[0,0],[0,1],[1,0],[1,1]]\n",
    "y_train = [[0],[1],[1],[0]]\n",
    "\n",
    "# Model parameters\n",
    "Wco = tf.Variable(tf.random_uniform((2,10),-1,1))\n",
    "bco = tf.Variable(tf.random_uniform((10,),-1,1))\n",
    "\n",
    "Wcs = tf.Variable(tf.random_uniform((10,1),-1,1))\n",
    "bcs = tf.Variable(tf.random_uniform((1,),-1,1))\n",
    "\n",
    "# Model input and output\n",
    "x = tf.placeholder(tf.float32,(4,2))\n",
    "y = tf.placeholder(tf.float32,(4,1))\n",
    "\n",
    "OutputCo= tf.tanh(tf.matmul(x,Wco)+bco)\n",
    "Output= tf.sigmoid(tf.matmul(OutputCo,Wcs)+bcs)"
   ]
  },
  {
   "cell_type": "code",
   "execution_count": 17,
   "metadata": {},
   "outputs": [
    {
     "name": "stdout",
     "output_type": "stream",
     "text": [
      "Wco: [[ 1.4610019  -0.32378995 -0.2373726  -2.2663252   0.41914207 -2.206794\n",
      "  -0.7056594   0.43840528  2.828586    1.0052972 ]\n",
      " [ 1.5500572  -0.3615292   0.5292755   2.6918895   0.36816958 -2.1375296\n",
      "  -0.56338394  0.09157778 -2.4288743  -0.9877045 ]] bco: [-2.3499258   0.70546204  0.1549979   1.1288226   0.6788644   0.7024672\n",
      " -0.2549597   0.05422939  1.2491925   0.78972787] Wcs: [[-2.6526217 ]\n",
      " [ 0.63151705]\n",
      " [-0.878848  ]\n",
      " [-3.72486   ]\n",
      " [ 0.41946253]\n",
      " [-2.9645414 ]\n",
      " [-0.63586503]\n",
      " [ 0.65299976]\n",
      " [-3.775222  ]\n",
      " [-0.8325695 ]] bcs: [0.33346936] loss: 0.0002517613 Output: [[0.00712832]\n",
      " [0.99218166]\n",
      " [0.9917019 ]\n",
      " [0.00842398]] \n",
      "loss: 0.0002517613 Output: [[0.00712832]\n",
      " [0.99218166]\n",
      " [0.9917019 ]\n",
      " [0.00842398]] \n"
     ]
    }
   ],
   "source": [
    "# loss\n",
    "loss = tf.reduce_sum(tf.square(Output - y)) # sum of the squares\n",
    "# optimizer\n",
    "#optimizer = tf.train.GradientDescentOptimizer(0.1)\n",
    "optimizer = tf.train.MomentumOptimizer(0.1,0.3)\n",
    "train = optimizer.minimize(loss)\n",
    "\n",
    "# training loop\n",
    "init = tf.global_variables_initializer()\n",
    "sess = tf.Session()\n",
    "sess.run(init) \n",
    "for i in range(10000):\n",
    "    sess.run(train, {x: x_train, y: y_train})\n",
    "\n",
    "# evaluate training accuracy\n",
    "curr_Wco, curr_bco, curr_Wcs, curr_bcs,curr_loss, curr_Output = sess.run([Wco, bco,Wcs, bcs, loss,Output], {x: x_train, y: y_train})\n",
    "print(\"Wco: %s bco: %s Wcs: %s bcs: %s loss: %s Output: %s \"%(curr_Wco, curr_bco, curr_Wcs, curr_bcs,curr_loss,curr_Output))\n",
    "print(\"loss: %s Output: %s \"%(curr_loss,curr_Output))"
   ]
  },
  {
   "cell_type": "code",
   "execution_count": null,
   "metadata": {},
   "outputs": [],
   "source": []
  }
 ],
 "metadata": {
  "kernelspec": {
   "display_name": "Python 3",
   "language": "python",
   "name": "python3"
  },
  "language_info": {
   "codemirror_mode": {
    "name": "ipython",
    "version": 3
   },
   "file_extension": ".py",
   "mimetype": "text/x-python",
   "name": "python",
   "nbconvert_exporter": "python",
   "pygments_lexer": "ipython3",
   "version": "3.5.2"
  },
  "varInspector": {
   "cols": {
    "lenName": 16,
    "lenType": 16,
    "lenVar": 40
   },
   "kernels_config": {
    "python": {
     "delete_cmd_postfix": "",
     "delete_cmd_prefix": "del ",
     "library": "var_list.py",
     "varRefreshCmd": "print(var_dic_list())"
    },
    "r": {
     "delete_cmd_postfix": ") ",
     "delete_cmd_prefix": "rm(",
     "library": "var_list.r",
     "varRefreshCmd": "cat(var_dic_list()) "
    }
   },
   "types_to_exclude": [
    "module",
    "function",
    "builtin_function_or_method",
    "instance",
    "_Feature"
   ],
   "window_display": false
  }
 },
 "nbformat": 4,
 "nbformat_minor": 2
}
