{
 "cells": [
  {
   "cell_type": "markdown",
   "metadata": {},
   "source": [
    "# ADAptative LINear Element"
   ]
  },
  {
   "cell_type": "code",
   "execution_count": 1,
   "metadata": {},
   "outputs": [
    {
     "name": "stdout",
     "output_type": "stream",
     "text": [
      "W: [[0.49931213]\n",
      " [0.49931157]] b: [-0.24918374] loss: 0.250001 Output: [[-0.24918374]\n",
      " [ 0.25012782]\n",
      " [ 0.2501284 ]\n",
      " [ 0.74943995]] \n"
     ]
    }
   ],
   "source": [
    "import tensorflow as tf\n",
    "\n",
    "# training data\n",
    "x_train = [[0,0],[0,1],[1,0],[1,1]]\n",
    "y_train = [[0],[0],[0],[1]]\n",
    "\n",
    "# Model parameters\n",
    "W = tf.Variable(tf.random_uniform((2,1),-1,1))\n",
    "b = tf.Variable(tf.random_uniform((1,),-1,1))\n",
    "\n",
    "# Model input and output\n",
    "x = tf.placeholder(tf.float32,(4,2))\n",
    "y = tf.placeholder(tf.float32,(4,1))\n",
    "Output= tf.matmul(x,W)+b\n",
    "\n",
    "# loss\n",
    "loss = tf.reduce_sum(tf.square(Output - y)) # sum of the squares\n",
    "# optimizer\n",
    "optimizer = tf.train.GradientDescentOptimizer(0.01)\n",
    "train = optimizer.minimize(loss)\n",
    "\n",
    "tf.summary.scalar('Loss', loss)\n",
    "merged = tf.summary.merge_all()\n",
    "\n",
    "# training loop\n",
    "init = tf.global_variables_initializer()\n",
    "sess = tf.Session()\n",
    "\n",
    "train_writer = tf.summary.FileWriter( DATA_TB , sess.graph)\n",
    "\n",
    "sess.run(init) \n",
    "for i in range(500):\n",
    "  sess.run(train, {x: x_train, y: y_train})\n",
    "  loss_tb, summary_tb = sess.run([loss,merged],{x: x_train, y: y_train})\n",
    "  train_writer.add_summary(summary_tb, i)\n",
    "\n",
    "\n",
    "#train_writer.flush()\n",
    "train_writer.close()\n",
    "#train_writer.close()  \n",
    "  \n",
    "# evaluate training accuracy\n",
    "curr_W, curr_b, curr_loss, curr_Output = sess.run([W, b, loss,Output], {x: x_train, y: y_train})\n",
    "print(\"W: %s \\nb: %s loss: %s \\nOutput:\\n %s \"%(curr_W, curr_b, curr_loss,curr_Output))"
   ]
  },
  {
   "cell_type": "code",
   "execution_count": null,
   "metadata": {},
   "outputs": [],
   "source": []
  },
  {
   "cell_type": "code",
   "execution_count": 5,
   "metadata": {},
   "outputs": [
    {
     "name": "stdout",
     "output_type": "stream",
     "text": [
      "Wco: [[-0.88967526  1.001059   -0.83782035  0.33199775  1.12923     1.4186361\n",
      "  -0.9511691   0.8533986   0.76779544  0.44978908]\n",
      " [ 0.05498769  0.49025622  0.07061294  1.6855162   0.23902416 -0.30686802\n",
      "  -1.1580127   0.7447005   0.06872757  0.5521483 ]] bco: [-0.45119387 -0.90008163 -0.9066566  -1.1409186  -0.69492453 -0.1360182\n",
      "  1.4636238   1.0981396   0.6803033   1.1545352 ] Wcs: [[-0.36743674]\n",
      " [ 1.5453006 ]\n",
      " [-0.0199449 ]\n",
      " [ 2.5010242 ]\n",
      " [ 1.272215  ]\n",
      " [ 1.1192714 ]\n",
      " [-2.42217   ]\n",
      " [-1.1345658 ]\n",
      " [ 0.06625905]\n",
      " [-0.73641086]] bcs: [-0.89304495] loss: 0.003244401 Output: [[2.1784246e-04]\n",
      " [2.7856011e-02]\n",
      " [3.0935898e-02]\n",
      " [9.6112370e-01]] \n"
     ]
    }
   ],
   "source": [
    "import tensorflow as tf\n",
    "\n",
    "# training data\n",
    "x_train = [[0,0],[0,1],[1,0],[1,1]]\n",
    "y_train = [[0],[0],[0],[1]]\n",
    "\n",
    "# Model parameters\n",
    "Wco = tf.Variable(tf.random_uniform((2,10),-1,1))\n",
    "bco = tf.Variable(tf.random_uniform((10,),-1,1))\n",
    "\n",
    "Wcs = tf.Variable(tf.random_uniform((10,1),-1,1))\n",
    "bcs = tf.Variable(tf.random_uniform((1,),-1,1))\n",
    "\n",
    "\n",
    "# Model input and output\n",
    "x = tf.placeholder(tf.float32,(4,2))\n",
    "y = tf.placeholder(tf.float32,(4,1))\n",
    "\n",
    "OutputCo= tf.tanh(tf.matmul(x,Wco)+bco)\n",
    "Output= tf.sigmoid(tf.matmul(OutputCo,Wcs)+bcs)\n",
    "\n",
    "# loss\n",
    "loss = tf.reduce_sum(tf.square(Output - y)) # sum of the squares\n",
    "# optimizer\n",
    "optimizer = tf.train.GradientDescentOptimizer(0.01)\n",
    "train = optimizer.minimize(loss)\n",
    "\n",
    "# training loop\n",
    "init = tf.global_variables_initializer()\n",
    "sess = tf.Session()\n",
    "\n",
    "\n",
    "sess.run(init) \n",
    "for i in range(10000):\n",
    "  sess.run(train, {x: x_train, y: y_train})\n",
    "\n",
    "# evaluate training accuracy\n",
    "curr_Wco, curr_bco, curr_Wcs, curr_bcs,curr_loss, curr_Output = sess.run([Wco, bco,Wcs, bcs, loss,Output], {x: x_train, y: y_train})\n",
    "print(\"Wco: %s bco: %s Wcs: %s bcs: %s loss: %s Output: %s \"%(curr_Wco, curr_bco, curr_Wcs, curr_bcs,curr_loss,curr_Output))"
   ]
  },
  {
   "cell_type": "code",
   "execution_count": null,
   "metadata": {},
   "outputs": [],
   "source": []
  },
  {
   "cell_type": "code",
   "execution_count": null,
   "metadata": {},
   "outputs": [],
   "source": []
  }
 ],
 "metadata": {
  "kernelspec": {
   "display_name": "Python 3",
   "language": "python",
   "name": "python3"
  },
  "language_info": {
   "codemirror_mode": {
    "name": "ipython",
    "version": 3
   },
   "file_extension": ".py",
   "mimetype": "text/x-python",
   "name": "python",
   "nbconvert_exporter": "python",
   "pygments_lexer": "ipython3",
   "version": "3.5.2"
  },
  "varInspector": {
   "cols": {
    "lenName": 16,
    "lenType": 16,
    "lenVar": 40
   },
   "kernels_config": {
    "python": {
     "delete_cmd_postfix": "",
     "delete_cmd_prefix": "del ",
     "library": "var_list.py",
     "varRefreshCmd": "print(var_dic_list())"
    },
    "r": {
     "delete_cmd_postfix": ") ",
     "delete_cmd_prefix": "rm(",
     "library": "var_list.r",
     "varRefreshCmd": "cat(var_dic_list()) "
    }
   },
   "types_to_exclude": [
    "module",
    "function",
    "builtin_function_or_method",
    "instance",
    "_Feature"
   ],
   "window_display": false
  }
 },
 "nbformat": 4,
 "nbformat_minor": 2
}
