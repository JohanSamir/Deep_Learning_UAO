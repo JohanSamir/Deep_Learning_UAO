{
 "cells": [
  {
   "cell_type": "markdown",
   "metadata": {},
   "source": [
    "## MLP sine function regression"
   ]
  },
  {
   "cell_type": "code",
   "execution_count": 1,
   "metadata": {},
   "outputs": [],
   "source": [
    "import numpy as np\n",
    "import matplotlib.pyplot as plt\n",
    "import math\n",
    "import tensorflow as tf\n",
    "import csv"
   ]
  },
  {
   "cell_type": "code",
   "execution_count": 2,
   "metadata": {},
   "outputs": [],
   "source": [
    "DATA_FILE_PESOS_CO = 'Week3/data/MLP_Pesos_CO.csv'\n",
    "DATA_FILE_PESOS_CS = 'Week3/data/MLP_Pesos_CS.csv'"
   ]
  },
  {
   "cell_type": "code",
   "execution_count": 3,
   "metadata": {},
   "outputs": [],
   "source": [
    "x_train = np.zeros([21,1],dtype=np.float64)\n",
    "y_train = np.zeros([21,1],dtype=np.float64)\n",
    "cont=0;"
   ]
  },
  {
   "cell_type": "code",
   "execution_count": 4,
   "metadata": {},
   "outputs": [
    {
     "name": "stdout",
     "output_type": "stream",
     "text": [
      "n_samples 21\n"
     ]
    }
   ],
   "source": [
    "for i in range(0,21):\n",
    "    x_train[cont] = (math.pi)*i*0.1\n",
    "    y_train[cont] = math.sin(x_train[cont] )\n",
    "    cont=cont+1\n",
    "          \n",
    "n_samples=cont \n",
    "print('n_samples',n_samples) "
   ]
  },
  {
   "cell_type": "code",
   "execution_count": 5,
   "metadata": {},
   "outputs": [],
   "source": [
    "X = tf.placeholder(tf.float32,(n_samples,1), name='X')\n",
    "Y = tf.placeholder(tf.float32,(n_samples,1), name='Y')\n",
    "\n",
    "#W and Bias hidden layer\n",
    "Wco = tf.Variable(tf.random_uniform((1,10),-1,1))\n",
    "bco = tf.Variable(tf.random_uniform((10,),-1,1))\n",
    "\n",
    "#w and Bias output layer\n",
    "Wcs = tf.Variable(tf.random_uniform((10,1),-1,1))\n",
    "bcs = tf.Variable(tf.random_uniform((1,),-1,1))"
   ]
  },
  {
   "cell_type": "code",
   "execution_count": 6,
   "metadata": {},
   "outputs": [],
   "source": [
    "OutputCo = tf.tanh(tf.matmul(X,Wco)+bco)\n",
    "Output= (tf.matmul(OutputCo,Wcs)+bcs)"
   ]
  },
  {
   "cell_type": "code",
   "execution_count": 7,
   "metadata": {},
   "outputs": [],
   "source": [
    "loss = tf.reduce_mean(tf.square(Y-Output))\n",
    "# optimizer\n",
    "optimizer = tf.train.MomentumOptimizer(0.01,0.9)\n",
    "train = optimizer.minimize(loss)"
   ]
  },
  {
   "cell_type": "code",
   "execution_count": 8,
   "metadata": {},
   "outputs": [],
   "source": [
    "init = tf.global_variables_initializer()\n",
    "sess = tf.Session()\n",
    "sess.run(init)"
   ]
  },
  {
   "cell_type": "markdown",
   "metadata": {},
   "source": [
    "Running one iteration:"
   ]
  },
  {
   "cell_type": "code",
   "execution_count": 9,
   "metadata": {},
   "outputs": [
    {
     "name": "stdout",
     "output_type": "stream",
     "text": [
      "loss: 3.4474537 \n"
     ]
    }
   ],
   "source": [
    "for i in range(1):\n",
    "    sess.run(train, {X: x_train, Y: y_train})\n",
    "\n",
    "curr_Wco, curr_bco, curr_Wcs, curr_bcs,curr_loss, curr_Output = sess.run([Wco, bco,Wcs, bcs, loss,Output], {X:  x_train, Y: y_train})\n",
    "#print(\"Wco: %s bco: %s Wcs: %s bcs: %s loss: %s \"%(curr_Wco, curr_bco, curr_Wcs, curr_bcs,curr_loss))\n",
    "print(\"loss: %s \"%(curr_loss))"
   ]
  },
  {
   "cell_type": "markdown",
   "metadata": {},
   "source": [
    "Se visualiza en una grafica la salida de la red y se compara con los datos deseados."
   ]
  },
  {
   "cell_type": "code",
   "execution_count": 10,
   "metadata": {},
   "outputs": [
    {
     "data": {
      "image/png": "[encoded data removed]",
      "text/plain": [
       "<matplotlib.figure.Figure at 0x7fbfaeff68d0>"
      ]
     },
     "metadata": {},
     "output_type": "display_data"
    }
   ],
   "source": [
    "Xg, Yg = x_train, y_train\n",
    "plt.plot(Xg, Yg, 'bo', label='Ground truth')\n",
    "plt.plot(Xg, curr_Output, 'r*', label='Output')\n",
    "plt.legend()\n",
    "plt.show()"
   ]
  },
  {
   "cell_type": "markdown",
   "metadata": {},
   "source": [
    "Running i iterations:"
   ]
  },
  {
   "cell_type": "code",
   "execution_count": 11,
   "metadata": {},
   "outputs": [
    {
     "name": "stdout",
     "output_type": "stream",
     "text": [
      "Output: [[-0.00435427]\n",
      " [ 0.30625463]\n",
      " [ 0.5925508 ]\n",
      " [ 0.8183324 ]\n",
      " [ 0.95679754]\n",
      " [ 0.9961103 ]\n",
      " [ 0.9385208 ]\n",
      " [ 0.79578215]\n",
      " [ 0.58381706]\n",
      " [ 0.31886595]\n",
      " [ 0.01787566]\n",
      " [-0.29636663]\n",
      " [-0.59085083]\n",
      " [-0.8263824 ]\n",
      " [-0.9699986 ]\n",
      " [-1.0062126 ]\n",
      " [-0.938975  ]\n",
      " [-0.7855511 ]\n",
      " [-0.5685171 ]\n",
      " [-0.31004506]\n",
      " [-0.02914371]]\n"
     ]
    }
   ],
   "source": [
    "for i in range(10000):\n",
    "  sess.run(train, {X: x_train, Y: y_train})\n",
    "\n",
    "curr_Wco, curr_bco, curr_Wcs, curr_bcs,curr_loss, curr_Output = sess.run([Wco, bco,Wcs, bcs, loss,Output], {X:  x_train, Y: y_train})\n",
    "#print(\"Wco: %s bco: %s Wcs: %s bcs: %s loss: %s Output: %s\"%(curr_Wco, curr_bco, curr_Wcs, curr_bcs,curr_loss,curr_Output))\n",
    "print(\"Output: %s\"%(curr_Output))"
   ]
  },
  {
   "cell_type": "markdown",
   "metadata": {},
   "source": [
    "Se visualiza en una grafica la salida de la red despues de ser entrenada y se compara con los datos deseados."
   ]
  },
  {
   "cell_type": "code",
   "execution_count": 12,
   "metadata": {},
   "outputs": [
    {
     "data": {
      "image/png": "[encoded data removed]",
      "text/plain": [
       "<matplotlib.figure.Figure at 0x7fbfac6cee10>"
      ]
     },
     "metadata": {},
     "output_type": "display_data"
    }
   ],
   "source": [
    "Xg, Yg = x_train, y_train\n",
    "plt.plot(Xg, Yg, 'bo', label='Ground truth')\n",
    "plt.plot(Xg, curr_Output, 'r*', label='Output')\n",
    "plt.legend()\n",
    "plt.show()"
   ]
  },
  {
   "cell_type": "markdown",
   "metadata": {},
   "source": [
    "# Validation"
   ]
  },
  {
   "cell_type": "code",
   "execution_count": 13,
   "metadata": {},
   "outputs": [],
   "source": [
    "x_test = np.zeros([21,1],dtype=np.float64)\n",
    "y_test = np.zeros([21,1],dtype=np.float64)\n",
    "cont = 0;\n",
    "\n",
    "for i in range(0,21):\n",
    "    x_test[cont] = (math.pi)*i*0.1+ ((math.pi)*0.05)\n",
    "    y_test[cont] = math.sin(x_test[cont] )\n",
    "    cont=cont+1"
   ]
  },
  {
   "cell_type": "code",
   "execution_count": 14,
   "metadata": {},
   "outputs": [
    {
     "name": "stdout",
     "output_type": "stream",
     "text": [
      "loss: 0.00022998745 \n"
     ]
    }
   ],
   "source": [
    "curr_loss2, curr_Output2 = sess.run([loss,Output], {X:  x_test, Y: y_test})\n",
    "print(\"loss: %s \"%(curr_loss2))"
   ]
  },
  {
   "cell_type": "code",
   "execution_count": 15,
   "metadata": {},
   "outputs": [
    {
     "data": {
      "image/png": "[encoded data removed]",
      "text/plain": [
       "<matplotlib.figure.Figure at 0x7fbfaef9ce10>"
      ]
     },
     "metadata": {},
     "output_type": "display_data"
    }
   ],
   "source": [
    "Xg, Yg = x_train, y_train\n",
    "plt.plot(Xg, Yg, 'bo', label='Desired Training Data')\n",
    "plt.plot(Xg, curr_Output, 'r*', label= 'Network output with training data')\n",
    "plt.plot(x_test, y_test, 'yo', label='Desired Validation Data')\n",
    "plt.plot(x_test, curr_Output2, 'g*', label='Output Network with Validation Data')\n",
    "plt.legend()\n",
    "plt.show()"
   ]
  },
  {
   "cell_type": "markdown",
   "metadata": {
    "collapsed": true
   },
   "source": [
    "Saving the weights"
   ]
  },
  {
   "cell_type": "code",
   "execution_count": 16,
   "metadata": {},
   "outputs": [],
   "source": [
    "data3=np.zeros([10,2],dtype=np.float64)\n",
    "data4=np.zeros([1,11],dtype=np.float64)"
   ]
  },
  {
   "cell_type": "code",
   "execution_count": 17,
   "metadata": {},
   "outputs": [
    {
     "name": "stdout",
     "output_type": "stream",
     "text": [
      "WCO:\n",
      " [[ 0.1002051   0.3058978  -0.71906203  0.6325626  -0.46591777 -0.78369254\n",
      "   0.68120676  0.2891019  -0.6788583  -0.5985237 ]] \n",
      "BCO:\n",
      " [ 0.5683301  -1.715389    2.666921    0.18198219  0.76736194  0.37750214\n",
      " -1.5360583  -1.5939465  -0.31244913 -0.7814143 ] \n"
     ]
    }
   ],
   "source": [
    "curr_loss,curr_Output,curr_Wco,curr_bco,curr_Wcs,curr_bcs=sess.run([loss,Output,Wco,bco,Wcs,bcs], {X:  x_train, Y: y_train})\n",
    "print(\"WCO:\\n %s \\nBCO:\\n %s \"%(curr_Wco,curr_bco))"
   ]
  },
  {
   "cell_type": "code",
   "execution_count": 18,
   "metadata": {},
   "outputs": [],
   "source": [
    "with open(DATA_FILE_PESOS_CO, 'w', newline='') as csvfile:\n",
    "    weightwriter = csv.writer(csvfile, delimiter=',',\n",
    "                            quotechar='\"', quoting=csv.QUOTE_MINIMAL)\n",
    "    \n",
    "    for ii in range(0,10):\n",
    "        data3[ii,0]=curr_Wco[0,ii]\n",
    "        data3[ii,1]=curr_bco[ii]\n",
    "        weightwriter.writerow(data3[ii,:]) "
   ]
  },
  {
   "cell_type": "code",
   "execution_count": 19,
   "metadata": {},
   "outputs": [
    {
     "name": "stdout",
     "output_type": "stream",
     "text": [
      "WCS\n",
      ": [[ 1.1450952 ]\n",
      " [ 1.5928984 ]\n",
      " [ 2.009011  ]\n",
      " [ 0.9467748 ]\n",
      " [ 0.36498   ]\n",
      " [-0.7789436 ]\n",
      " [-0.93063474]\n",
      " [ 2.0522363 ]\n",
      " [-0.08056781]\n",
      " [ 0.5023149 ]] \n",
      "BCS:\n",
      " [0.13035117] \n"
     ]
    }
   ],
   "source": [
    "print(\"WCS\\n: %s \\nBCS:\\n %s \"%(curr_Wcs,curr_bcs)) "
   ]
  },
  {
   "cell_type": "code",
   "execution_count": 20,
   "metadata": {},
   "outputs": [],
   "source": [
    "with open(DATA_FILE_PESOS_CS, 'w', newline='') as csvfile:\n",
    "    weightwriter = csv.writer(csvfile, delimiter=',',\n",
    "                            quotechar='\"', quoting=csv.QUOTE_MINIMAL)\n",
    "    \n",
    "    for ii in range(0,11):\n",
    "        if ii<10:\n",
    "            data4[0,ii]=curr_Wcs[ii,0]\n",
    "        if ii==10:\n",
    "            data4[0,ii]=curr_bcs[0]\n",
    "    \n",
    "    weightwriter.writerow(data4[0,:])   "
   ]
  }
 ],
 "metadata": {
  "kernelspec": {
   "display_name": "Python 3",
   "language": "python",
   "name": "python3"
  },
  "language_info": {
   "codemirror_mode": {
    "name": "ipython",
    "version": 3
   },
   "file_extension": ".py",
   "mimetype": "text/x-python",
   "name": "python",
   "nbconvert_exporter": "python",
   "pygments_lexer": "ipython3",
   "version": "3.5.2"
  },
  "varInspector": {
   "cols": {
    "lenName": 16,
    "lenType": 16,
    "lenVar": 40
   },
   "kernels_config": {
    "python": {
     "delete_cmd_postfix": "",
     "delete_cmd_prefix": "del ",
     "library": "var_list.py",
     "varRefreshCmd": "print(var_dic_list())"
    },
    "r": {
     "delete_cmd_postfix": ") ",
     "delete_cmd_prefix": "rm(",
     "library": "var_list.r",
     "varRefreshCmd": "cat(var_dic_list()) "
    }
   },
   "types_to_exclude": [
    "module",
    "function",
    "builtin_function_or_method",
    "instance",
    "_Feature"
   ],
   "window_display": false
  }
 },
 "nbformat": 4,
 "nbformat_minor": 2
}
